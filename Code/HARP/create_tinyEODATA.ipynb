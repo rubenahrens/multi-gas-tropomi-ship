{
 "cells": [
  {
   "cell_type": "markdown",
   "metadata": {},
   "source": [
    "# Decrease size of data"
   ]
  },
  {
   "cell_type": "code",
   "execution_count": 2,
   "metadata": {},
   "outputs": [],
   "source": [
    "import harptools as ht\n",
    "import harp\n",
    "import json\n",
    "import os\n",
    "import glob\n",
    "\n",
    "ROOT = \"../../Data/\"\n",
    "# Open aoi.json\n",
    "with open(f\"{ROOT}aoi.json\", \"r\") as f:\n",
    "    aoi = json.load(f)\n",
    "ROOT = \"E:/thesis dump/\""
   ]
  },
  {
   "cell_type": "code",
   "execution_count": 5,
   "metadata": {},
   "outputs": [],
   "source": [
    "def simple_operations(product: str, spatial_extent: list, filter_vars: bool = False) -> str:\n",
    "    \"\"\"\n",
    "    Returns a string of operations to be used in the harp.import_product function\n",
    "    This function needs to be changed if a user wants to use different operations or products.\n",
    "    The product names in harp are different from the product names in the S5P data. And need to be changed manually to ensure accuracy.\n",
    "    # product names: https://stcorp.github.io/harp/doc/html/ingestions/index.html#sentinel-5p-products\n",
    "    \"\"\"\n",
    "    lon_min, lat_min, lon_max, lat_max = spatial_extent\n",
    "    variables = {\n",
    "    \"HCHO\": [\"HCHO_slant_column_number_density\", \"tropospheric_HCHO_column_number_density_validity\"],\n",
    "    \"NO2\": [\"NO2_slant_column_number_density\", \"tropospheric_NO2_column_number_density_validity\"],\n",
    "    \"SO2\": [\"SO2_slant_column_number_density\", \"SO2_column_number_density_validity\"],\n",
    "    \"misc\": [\"datetime_start\", \"datetime_length\", \"latitude\", \"longitude\", \"cloud_fraction\", \n",
    "             \"surface_meridional_wind_velocity\", \"surface_zonal_wind_velocity\", \"latitude_bounds\", \"longitude_bounds\",\n",
    "             \"solar_zenith_angle\", \"sensor_zenith_angle\", \"solar_azimuth_angle\", \"sensor_azimuth_angle\"],\n",
    "    }\n",
    "    \n",
    "    ops = [f\"latitude>={lat_min}\",f\"latitude<={lat_max}\",f\"longitude>={lon_min}\",f\"longitude<={lon_max}\"]\n",
    "    \n",
    "    if filter_vars:\n",
    "        ops.append(f\"keep({','.join(variables['HCHO']+variables['NO2']+variables['SO2']+variables['misc'])})\")\n",
    "    \n",
    "    operations = \";\".join(ops)\n",
    "    return operations"
   ]
  },
  {
   "cell_type": "code",
   "execution_count": 6,
   "metadata": {},
   "outputs": [],
   "source": [
    "for aoi_name, area_of_interest in aoi.items():\n",
    "    # load tropomi product\n",
    "    # get list of all files with glob\n",
    "    path = f\"{ROOT}EODATA/{aoi_name}/Sentinel-5P/TROPOMI/L3__Merged_/\"\n",
    "    operations = simple_operations(\"NO2\", area_of_interest, filter_vars=True)\n",
    "\n",
    "    files = glob.glob(os.path.join(path, \"*/*/*/*.nc\"))\n",
    "    for file in files:\n",
    "        tropomi_data = harp.import_product(file, operations=operations)\n",
    "        # export product\n",
    "        # print(file)\n",
    "        # change EODATA to TinyEODATA\n",
    "        export_path = file.replace(\"EODATA\", \"TinyEODATA\")\n",
    "        os.makedirs(os.path.dirname(export_path), exist_ok=True)\n",
    "        harp.export_product(tropomi_data, export_path)\n",
    "    "
   ]
  }
 ],
 "metadata": {
  "kernelspec": {
   "display_name": "harppy",
   "language": "python",
   "name": "python3"
  },
  "language_info": {
   "codemirror_mode": {
    "name": "ipython",
    "version": 3
   },
   "file_extension": ".py",
   "mimetype": "text/x-python",
   "name": "python",
   "nbconvert_exporter": "python",
   "pygments_lexer": "ipython3",
   "version": "3.10.13"
  }
 },
 "nbformat": 4,
 "nbformat_minor": 2
}
